# Instalar paquetes necesarios si no están instalados
!pip install pandas numpy seaborn matplotlib scikit-learn

# Cargar librerías
import numpy as np
import pandas as pd
import seaborn as sns
import matplotlib.pyplot as plt

# Simular un dataset
np.random.seed(123)
n = 1000
df = pd.DataFrame({
    'id': range(1, n+1),
    'age': np.random.normal(35, 10, n),  # Edad simulada con distribución normal
    'income': np.random.normal(50000, 15000, n),  # Ingresos simulados
    'gender': np.random.choice(['Male', 'Female'], n, replace=True),  # Categórica
    'department': np.random.choice(['HR', 'IT', 'Finance', 'Sales'], n, replace=True), # Categórica
    'purchased': np.random.choice([0, 1], n, replace=True)  # Variable binaria (target)
})

# Revisar las primeras filas
df.head()

# Resumen estadístico de las variables numéricas
df.describe()

# Ver la estructura del dataset
df.info()

# Verificar valores faltantes
df.isnull().sum()

# Tablas de frecuencia para variables categóricas
df['gender'].value_counts()
df['department'].value_counts()
df['purchased'].value_counts()

# Análisis de correlación para variables numéricas
df[['age', 'income']].corr()

# Gráficos: Distribuciones
plt.figure(figsize=(10, 6))
sns.histplot(df['age'], bins=20, color='blue')
plt.title("Distribución de la Edad")
plt.show()

plt.figure(figsize=(10, 6))
sns.histplot(df['income'], bins=20, color='green')
plt.title("Distribución de Ingresos")
plt.show()

# Gráficos: Relación entre variables numéricas
plt.figure(figsize=(10, 6))
sns.scatterplot(x='age', y='income', data=df, color='red')
plt.title("Relación entre Edad e Ingreso")
plt.show()

# Gráficos: Variables categóricas
plt.figure(figsize=(10, 6))
sns.countplot(x='gender', hue='purchased', data=df)
plt.title("Distribución de Compras por Género")
plt.show()

plt.figure(figsize=(10, 6))
sns.countplot(x='department', hue='purchased', data=df)
plt.title("Distribución de Compras por Departamento")
plt.show()