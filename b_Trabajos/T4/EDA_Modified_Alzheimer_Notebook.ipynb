{
 "cells": [
  {
   "cell_type": "markdown",
   "id": "226c42f6",
   "metadata": {},
   "source": [
    "# Exploratory Data Analysis (EDA) - Modified Alzheimer Dataset"
   ]
  },
  {
   "cell_type": "markdown",
   "id": "cdbb057f",
   "metadata": {},
   "source": [
    "## Cargar librerías necesarias"
   ]
  },
  {
   "cell_type": "code",
   "execution_count": 5,
   "id": "6011d8d5",
   "metadata": {},
   "outputs": [
    {
     "ename": "ModuleNotFoundError",
     "evalue": "No module named 'missingno'",
     "output_type": "error",
     "traceback": [
      "\u001b[0;31m---------------------------------------------------------------------------\u001b[0m",
      "\u001b[0;31mModuleNotFoundError\u001b[0m                       Traceback (most recent call last)",
      "Cell \u001b[0;32mIn[5], line 5\u001b[0m\n\u001b[1;32m      3\u001b[0m \u001b[38;5;28;01mimport\u001b[39;00m \u001b[38;5;21;01mseaborn\u001b[39;00m \u001b[38;5;28;01mas\u001b[39;00m \u001b[38;5;21;01msns\u001b[39;00m\n\u001b[1;32m      4\u001b[0m \u001b[38;5;66;03m#!pip install missingno\u001b[39;00m\n\u001b[0;32m----> 5\u001b[0m \u001b[38;5;28;01mimport\u001b[39;00m \u001b[38;5;21;01mmissingno\u001b[39;00m \u001b[38;5;28;01mas\u001b[39;00m \u001b[38;5;21;01mmsno\u001b[39;00m\n\u001b[1;32m      7\u001b[0m \u001b[38;5;66;03m# Configuración de visualización\u001b[39;00m\n\u001b[1;32m      8\u001b[0m sns\u001b[38;5;241m.\u001b[39mset(style\u001b[38;5;241m=\u001b[39m\u001b[38;5;124m'\u001b[39m\u001b[38;5;124mwhitegrid\u001b[39m\u001b[38;5;124m'\u001b[39m)\n",
      "\u001b[0;31mModuleNotFoundError\u001b[0m: No module named 'missingno'"
     ]
    }
   ],
   "source": [
    "import pandas as pd\n",
    "import matplotlib.pyplot as plt\n",
    "import seaborn as sns\n",
    "#!pip install missingno\n",
    "import missingno as msno\n",
    "\n",
    "# Configuración de visualización\n",
    "sns.set(style='whitegrid')"
   ]
  },
  {
   "cell_type": "markdown",
   "id": "c903a1c5",
   "metadata": {},
   "source": [
    "## Leer el dataset"
   ]
  },
  {
   "cell_type": "code",
   "execution_count": null,
   "id": "964deb50",
   "metadata": {},
   "outputs": [],
   "source": [
    "file_path = 'Modified_Alzheimer_dataset.csv'\n",
    "data = pd.read_csv(file_path)\n",
    "\n",
    "# Inspeccionar las primeras filas del dataset\n",
    "data.head()"
   ]
  },
  {
   "cell_type": "markdown",
   "id": "f6a49d09",
   "metadata": {},
   "source": [
    "## Inspección del dataset"
   ]
  },
  {
   "cell_type": "code",
   "execution_count": null,
   "id": "35c8d1bf",
   "metadata": {},
   "outputs": [],
   "source": [
    "# Dimensiones del dataset\n",
    "print(f'Dimensiones del dataset: {data.shape}')\n",
    "\n",
    "# Resumen estadístico\n",
    "data.describe(include='all')"
   ]
  },
  {
   "cell_type": "markdown",
   "id": "74aee905",
   "metadata": {},
   "source": [
    "## Análisis de valores faltantes"
   ]
  },
  {
   "cell_type": "code",
   "execution_count": null,
   "id": "2d5d6a86",
   "metadata": {},
   "outputs": [],
   "source": [
    "# Visualización de valores faltantes\n",
    "msno.matrix(data)\n",
    "plt.show()\n",
    "\n",
    "# Conteo de valores faltantes\n",
    "data.isnull().sum()"
   ]
  },
  {
   "cell_type": "markdown",
   "id": "e683f885",
   "metadata": {},
   "source": [
    "## Distribución de variables numéricas"
   ]
  },
  {
   "cell_type": "code",
   "execution_count": null,
   "id": "ed317d49",
   "metadata": {},
   "outputs": [],
   "source": [
    "numerical_cols = data.select_dtypes(include=['float64', 'int64']).columns\n",
    "data[numerical_cols].hist(bins=15, figsize=(15, 10), edgecolor='black')\n",
    "plt.tight_layout()\n",
    "plt.show()"
   ]
  },
  {
   "cell_type": "markdown",
   "id": "c3aaf36a",
   "metadata": {},
   "source": [
    "## Relación entre variables"
   ]
  },
  {
   "cell_type": "code",
   "execution_count": null,
   "id": "556b7e7e",
   "metadata": {},
   "outputs": [],
   "source": [
    "sns.pairplot(data, diag_kind='kde', hue='Diagnostico_Alzheimer', corner=True)\n",
    "plt.show()"
   ]
  },
  {
   "cell_type": "markdown",
   "id": "18fb2827",
   "metadata": {},
   "source": [
    "## Análisis de variables categóricas"
   ]
  },
  {
   "cell_type": "code",
   "execution_count": null,
   "id": "abbb4e63",
   "metadata": {},
   "outputs": [],
   "source": [
    "categorical_cols = ['Sexo', 'Grupo_Experimental', 'Estado_Clinico']\n",
    "for col in categorical_cols:\n",
    "    plt.figure(figsize=(10, 5))\n",
    "    sns.boxplot(x=col, y='Puntuacion_TestEstandarizado_MMSE', data=data)\n",
    "    plt.title(f'Distribución de Puntuacion_TestEstandarizado_MMSE por {col}')\n",
    "    plt.show()"
   ]
  }
 ],
 "metadata": {
  "kernelspec": {
   "display_name": "Python 3 (ipykernel)",
   "language": "python",
   "name": "python3"
  },
  "language_info": {
   "codemirror_mode": {
    "name": "ipython",
    "version": 3
   },
   "file_extension": ".py",
   "mimetype": "text/x-python",
   "name": "python",
   "nbconvert_exporter": "python",
   "pygments_lexer": "ipython3",
   "version": "3.11.9"
  }
 },
 "nbformat": 4,
 "nbformat_minor": 5
}
