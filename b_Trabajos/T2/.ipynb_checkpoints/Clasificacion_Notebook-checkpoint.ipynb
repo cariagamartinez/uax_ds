{
 "cells": [
  {
   "cell_type": "markdown",
   "id": "3db796b2",
   "metadata": {},
   "source": [
    "# Clasificación con K-NN y Regresión Logística en Python\n",
    "Este notebook replica el análisis y modelos del script en R utilizando Python."
   ]
  },
  {
   "cell_type": "code",
   "execution_count": null,
   "id": "f66f58e7",
   "metadata": {},
   "outputs": [],
   "source": [
    "# Importar librerías necesarias\n",
    "import pandas as pd\n",
    "import numpy as np\n",
    "import matplotlib.pyplot as plt\n",
    "import seaborn as sns\n",
    "from sklearn.model_selection import train_test_split\n",
    "from sklearn.preprocessing import StandardScaler, LabelEncoder\n",
    "from sklearn.neighbors import KNeighborsClassifier\n",
    "from sklearn.linear_model import LogisticRegression\n",
    "from sklearn.metrics import confusion_matrix, classification_report"
   ]
  },
  {
   "cell_type": "code",
   "execution_count": null,
   "id": "82694b44",
   "metadata": {},
   "outputs": [],
   "source": [
    "# 1. Lectura del dataset\n",
    "# Cargar los datos\n",
    "data = pd.read_csv('Alzheimer_dataset.csv', sep=';')\n",
    "\n",
    "# Eliminar la columna 'Categoria'\n",
    "data = data.drop(columns=['Categoria'])\n",
    "\n",
    "# Exploración inicial\n",
    "print(data.info())  # Estructura del dataset\n",
    "print(data.describe())  # Resumen estadístico"
   ]
  },
  {
   "cell_type": "code",
   "execution_count": null,
   "id": "9ad7d402",
   "metadata": {},
   "outputs": [],
   "source": [
    "# 2. Análisis exploratorio (EDA)\n",
    "# Comprobar distribución de la variable objetivo (Target)\n",
    "print(data['Target'].value_counts())  # Frecuencia de cada clase\n",
    "\n",
    "# Distribución de la variable objetivo\n",
    "plt.bar(data['Target'].value_counts().index, data['Target'].value_counts().values, color=['skyblue', 'orange'])\n",
    "plt.title('Distribución de la Variable Target')\n",
    "plt.xlabel('Clase')\n",
    "plt.ylabel('Frecuencia')\n",
    "plt.show()\n",
    "\n",
    "# Visualización de correlaciones entre variables numéricas\n",
    "correlation_matrix = data.corr()\n",
    "sns.heatmap(correlation_matrix, annot=True, cmap='coolwarm')\n",
    "plt.title('Matriz de Correlación')\n",
    "plt.show()"
   ]
  },
  {
   "cell_type": "code",
   "execution_count": null,
   "id": "ba6a18c8",
   "metadata": {},
   "outputs": [],
   "source": [
    "# Distribución de Edad por clases de Target\n",
    "sns.histplot(data=data, x='Edad', hue='Target', kde=True, multiple='stack', palette=['lightblue', 'pink'])\n",
    "plt.title('Distribución de Edad por Clase')\n",
    "plt.show()\n",
    "\n",
    "# Boxplot de Edad por Clase\n",
    "sns.boxplot(data=data, x='Target', y='Edad', palette=['lightblue', 'pink'])\n",
    "plt.title('Boxplot de Edad por Clase')\n",
    "plt.show()"
   ]
  },
  {
   "cell_type": "code",
   "execution_count": null,
   "id": "05a90bd5",
   "metadata": {},
   "outputs": [],
   "source": [
    "# 3. Preparación de los datos\n",
    "# Convertir la variable Target a numérica (si no lo es)\n",
    "data['Target'] = LabelEncoder().fit_transform(data['Target'])\n",
    "\n",
    "# Dividir los datos en conjunto de entrenamiento (70%) y prueba (30%)\n",
    "X = data.drop(columns=['Target'])\n",
    "y = data['Target']\n",
    "X_train, X_test, y_train, y_test = train_test_split(X, y, test_size=0.3, random_state=123)\n",
    "\n",
    "# Escalar las variables numéricas\n",
    "scaler = StandardScaler()\n",
    "X_train_scaled = scaler.fit_transform(X_train)\n",
    "X_test_scaled = scaler.transform(X_test)"
   ]
  },
  {
   "cell_type": "code",
   "execution_count": null,
   "id": "8ac7e9ed",
   "metadata": {},
   "outputs": [],
   "source": [
    "# 4. Modelo de K-NN\n",
    "# Entrenar un modelo K-NN con k=5\n",
    "knn = KNeighborsClassifier(n_neighbors=5)\n",
    "knn.fit(X_train_scaled, y_train)\n",
    "\n",
    "# Predicciones y evaluación\n",
    "y_pred_knn = knn.predict(X_test_scaled)\n",
    "conf_matrix_knn = confusion_matrix(y_test, y_pred_knn)\n",
    "print('Matriz de Confusión K-NN:\\n', conf_matrix_knn)\n",
    "print('Reporte de Clasificación K-NN:\\n', classification_report(y_test, y_pred_knn))"
   ]
  },
  {
   "cell_type": "code",
   "execution_count": null,
   "id": "897e6aa2",
   "metadata": {},
   "outputs": [],
   "source": [
    "# 5. Modelo de Regresión Logística\n",
    "# Entrenar el modelo de regresión logística\n",
    "log_reg = LogisticRegression()\n",
    "log_reg.fit(X_train_scaled, y_train)\n",
    "\n",
    "# Predicciones y evaluación\n",
    "y_pred_log = log_reg.predict(X_test_scaled)\n",
    "conf_matrix_log = confusion_matrix(y_test, y_pred_log)\n",
    "print('Matriz de Confusión Regresión Logística:\\n', conf_matrix_log)\n",
    "print('Reporte de Clasificación Regresión Logística:\\n', classification_report(y_test, y_pred_log))"
   ]
  },
  {
   "cell_type": "code",
   "execution_count": null,
   "id": "d593438e",
   "metadata": {},
   "outputs": [],
   "source": [
    "# 6. Conclusión\n",
    "print('Resumen de Precisión:')\n",
    "print('K-NN - Precisión:', knn.score(X_test_scaled, y_test))\n",
    "print('Regresión Logística - Precisión:', log_reg.score(X_test_scaled, y_test))"
   ]
  }
 ],
 "metadata": {},
 "nbformat": 4,
 "nbformat_minor": 5
}
