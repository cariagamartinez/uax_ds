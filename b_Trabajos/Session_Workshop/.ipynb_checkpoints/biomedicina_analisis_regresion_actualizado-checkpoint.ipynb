{
 "cells": [
  {
   "cell_type": "markdown",
   "id": "5968ba76",
   "metadata": {},
   "source": [
    "# Análisis de Ciencia de Datos para Estudiantes de Biomedicina\n",
    "Este notebook incluye un análisis completo desde la carga de datos hasta la interpretación de resultados."
   ]
  },
  {
   "cell_type": "code",
   "execution_count": null,
   "id": "7a176f86",
   "metadata": {},
   "outputs": [],
   "source": [
    "# Importación de librerías necesarias\n",
    "import pandas as pd\n",
    "import numpy as np\n",
    "import matplotlib.pyplot as plt\n",
    "import seaborn as sns\n",
    "from sklearn.model_selection import train_test_split\n",
    "from sklearn.linear_model import LinearRegression\n",
    "from sklearn.metrics import mean_squared_error\n",
    "from sklearn.preprocessing import LabelEncoder\n",
    "import scipy.stats as stats\n",
    "\n",
    "# Configuración de gráficos\n",
    "sns.set(style='whitegrid')"
   ]
  },
  {
   "cell_type": "code",
   "execution_count": null,
   "id": "2f9cb25c",
   "metadata": {},
   "outputs": [],
   "source": [
    "# 1. Lectura del dataset\n",
    "# Cargamos el dataset generado en R\n",
    "datos = pd.read_csv('dataset_biomedicina.csv')\n",
    "\n",
    "# Exploración inicial del dataset\n",
    "print('Resumen del dataset:')\n",
    "print(datos.info())\n",
    "print('\\nEstadísticas descriptivas:')\n",
    "print(datos.describe())"
   ]
  },
  {
   "cell_type": "code",
   "execution_count": null,
   "id": "ec2d3b80",
   "metadata": {},
   "outputs": [],
   "source": [
    "# 2. Análisis Exploratorio de Datos (EDA)\n",
    "# Distribución de la variable objetivo (Riesgo_Cardiovascular)\n",
    "plt.figure(figsize=(10, 6))\n",
    "plt.hist(datos['Riesgo_Cardiovascular'], bins=15, color='skyblue', edgecolor='black')\n",
    "plt.title('Distribución del Riesgo Cardiovascular')\n",
    "plt.xlabel('Riesgo Cardiovascular')\n",
    "plt.ylabel('Frecuencia')\n",
    "plt.show()"
   ]
  },
  {
   "cell_type": "code",
   "execution_count": null,
   "id": "5f7a84fb",
   "metadata": {},
   "outputs": [],
   "source": [
    "# Relación entre Edad e IMC con el Riesgo Cardiovascular\n",
    "plt.figure(figsize=(10, 6))\n",
    "plt.scatter(datos['Edad'], datos['Riesgo_Cardiovascular'], color='blue', alpha=0.5)\n",
    "plt.title('Edad vs Riesgo Cardiovascular')\n",
    "plt.xlabel('Edad')\n",
    "plt.ylabel('Riesgo Cardiovascular')\n",
    "plt.show()\n",
    "\n",
    "plt.figure(figsize=(10, 6))\n",
    "plt.scatter(datos['IMC'], datos['Riesgo_Cardiovascular'], color='red', alpha=0.5)\n",
    "plt.title('IMC vs Riesgo Cardiovascular')\n",
    "plt.xlabel('IMC')\n",
    "plt.ylabel('Riesgo Cardiovascular')\n",
    "plt.show()"
   ]
  },
  {
   "cell_type": "code",
   "execution_count": null,
   "id": "f3058cfe",
   "metadata": {},
   "outputs": [],
   "source": [
    "# Conversión de variables categóricas\n",
    "le = LabelEncoder()\n",
    "datos['Actividad_Fisica'] = le.fit_transform(datos['Actividad_Fisica'])\n",
    "datos['Fumador'] = le.fit_transform(datos['Fumador'])"
   ]
  },
  {
   "cell_type": "code",
   "execution_count": null,
   "id": "3737ee91",
   "metadata": {},
   "outputs": [],
   "source": [
    "# 3. Separación en conjuntos de entrenamiento y prueba\n",
    "X = datos[['Edad', 'IMC', 'Nivel_Glucosa', 'Nivel_Colesterol', 'Actividad_Fisica', 'Fumador']]\n",
    "y = datos['Riesgo_Cardiovascular']\n",
    "X_train, X_test, y_train, y_test = train_test_split(X, y, test_size=0.3, random_state=123)"
   ]
  },
  {
   "cell_type": "code",
   "execution_count": null,
   "id": "e2a987a4",
   "metadata": {},
   "outputs": [],
   "source": [
    "# 4. Generación del Modelo de Regresión Lineal\n",
    "modelo = LinearRegression()\n",
    "modelo.fit(X_train, y_train)\n",
    "\n",
    "# Coeficientes del modelo\n",
    "print('Coeficientes del modelo:')\n",
    "for feature, coef in zip(X.columns, modelo.coef_):\n",
    "    print(f'{feature}: {coef:.3f}')\n",
    "print(f'Intercepción: {modelo.intercept_:.3f}')"
   ]
  },
  {
   "cell_type": "code",
   "execution_count": null,
   "id": "70cc33e1",
   "metadata": {},
   "outputs": [],
   "source": [
    "# 5. Evaluación del Modelo\n",
    "# Predicción y cálculo del error en el conjunto de prueba\n",
    "predicciones = modelo.predict(X_test)\n",
    "rmse = np.sqrt(mean_squared_error(y_test, predicciones))\n",
    "print(f'Error RMSE del modelo: {rmse:.2f}')"
   ]
  },
  {
   "cell_type": "code",
   "execution_count": null,
   "id": "afd3149d",
   "metadata": {},
   "outputs": [],
   "source": [
    "# 6. Plots para evaluar los supuestos de Gauss-Markov\n",
    "\n",
    "# 1. Residuos vs Predicciones\n",
    "residuos = y_test - predicciones\n",
    "plt.figure(figsize=(10, 6))\n",
    "plt.scatter(predicciones, residuos, color='blue', alpha=0.5)\n",
    "plt.axhline(y=0, color='red', linestyle='--')\n",
    "plt.title('Residuos vs Predicciones')\n",
    "plt.xlabel('Predicciones')\n",
    "plt.ylabel('Residuos')\n",
    "plt.show()"
   ]
  },
  {
   "cell_type": "code",
   "execution_count": null,
   "id": "b51e4ac1",
   "metadata": {},
   "outputs": [],
   "source": [
    "# 2. Histograma de los residuos\n",
    "plt.figure(figsize=(10, 6))\n",
    "plt.hist(residuos, bins=15, color='skyblue', edgecolor='black')\n",
    "plt.title('Distribución de los Residuos')\n",
    "plt.xlabel('Residuos')\n",
    "plt.ylabel('Frecuencia')\n",
    "plt.show()"
   ]
  },
  {
   "cell_type": "code",
   "execution_count": null,
   "id": "dfa5be3a",
   "metadata": {},
   "outputs": [],
   "source": [
    "# 3. Gráfico Q-Q para normalidad\n",
    "plt.figure(figsize=(10, 6))\n",
    "stats.probplot(residuos, dist='norm', plot=plt)\n",
    "plt.title('Q-Q Plot de los Residuos')\n",
    "plt.show()"
   ]
  },
  {
   "cell_type": "markdown",
   "id": "4ef56968",
   "metadata": {},
   "source": [
    "# 7. Interpretación y Conclusión\n",
    "Basándonos en los resultados del modelo, observamos que:\n",
    "- La Edad, el Nivel de Glucosa y el Nivel de Colesterol parecen tener un efecto positivo en el Riesgo Cardiovascular.\n",
    "- El IMC tiene un efecto negativo, lo cual podría requerir un análisis más profundo.\n",
    "- Las variables categóricas como el nivel de actividad física y el hábito de fumar también pueden influir en el riesgo.\n",
    "\n",
    "Este análisis puede ayudar a identificar factores de riesgo y su contribución relativa, proporcionando una base para intervenciones preventivas y promoción de la salud en la población de estudio."
   ]
  }
 ],
 "metadata": {},
 "nbformat": 4,
 "nbformat_minor": 5
}
